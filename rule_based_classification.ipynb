{
  "cells": [
    {
      "cell_type": "markdown",
      "metadata": {
        "id": "dllSMMaqHKoT"
      },
      "source": [
        "# Calculating Potential Customer Return with Rule-Based Classification"
      ]
    },
    {
      "cell_type": "markdown",
      "metadata": {
        "id": "0VWp_xdCHLHN"
      },
      "source": [
        "**Business Problem**\n",
        "\n",
        "\n",
        "A gaming company wants to create level-based new customer personas using certain characteristics of their customers and estimate how much potential revenue new customers from these segments could bring to the company on average."
      ]
    },
    {
      "cell_type": "markdown",
      "metadata": {
        "id": "KF-wSTYeHLKQ"
      },
      "source": [
        "**About Dataset**\n",
        "\n",
        "The dataset \"Persona.csv\" contains the prices of products sold by an international gaming company and includes demographic information about the users who purchased these products. The dataset is composed of records generated from each sales transaction. In other words, the table has not been deduplicated. This means that a user with certain demographic characteristics may have made multiple purchases.\n",
        "\n",
        "- **Price**: Amount of money spent by the customer\n",
        "- **Source**: Type of device the customer is connected to\n",
        "- **Sex**: Gender of the customer\n",
        "- **Country**: Country of the customer\n",
        "- **Age**: Age of the customer"
      ]
    },
    {
      "cell_type": "markdown",
      "metadata": {
        "id": "aDaZRQk_y7sv"
      },
      "source": [
        "## Importing Packages"
      ]
    },
    {
      "cell_type": "code",
      "execution_count": 1,
      "metadata": {
        "id": "ayXMIzf7HLjp"
      },
      "outputs": [],
      "source": [
        "import numpy as np\n",
        "import pandas as pd\n",
        "import matplotlib.pyplot as plt\n",
        "import seaborn as sns\n",
        "\n",
        "pd.set_option(\"display.max_rows\", None)"
      ]
    },
    {
      "cell_type": "markdown",
      "metadata": {
        "id": "UIiv_JLD47Vm"
      },
      "source": [
        "## Functions"
      ]
    },
    {
      "cell_type": "code",
      "execution_count": 2,
      "metadata": {
        "id": "z5LUrBP649Ms"
      },
      "outputs": [],
      "source": [
        "def count_analyses(df, col, count_name='Sales'):\n",
        "    \"\"\"Performs count analyses on a specified column of a DataFrame.\n",
        "\n",
        "    Args:\n",
        "        df (DataFrame): The input DataFrame.\n",
        "        col (str): The name of the column for count analyses.\n",
        "        count_name (str, optional): The name for the count variable (default: 'Sales').\n",
        "\n",
        "    Returns:\n",
        "        None\n",
        "    \"\"\"\n",
        "\n",
        "    # Unique count of the column\n",
        "    unique_col_count = df[col].nunique()\n",
        "    print(f\"Unique {col} count: {unique_col_count}\")\n",
        "\n",
        "    print()  # Print an empty line for separation\n",
        "\n",
        "    # Sales counts by the column\n",
        "    col_counts = df[col].value_counts()\n",
        "    print(f\"{count_name} Counts by {col}:\")\n",
        "    print(col_counts)\n",
        "\n",
        "def bar_plot_for_counts(df, col, count_name='Sales'):\n",
        "    \"\"\"Generates a bar plot for the counts of a specific column in a DataFrame.\n",
        "\n",
        "    Args:\n",
        "        df (DataFrame): The input DataFrame.\n",
        "        col (str): The name of the column for which counts will be plotted.\n",
        "        count_name (str, optional): The name for the count variable (default: 'Sales').\n",
        "\n",
        "    Returns:\n",
        "        None\n",
        "    \"\"\"\n",
        "\n",
        "    # Sales counts by PRICE (sorted by index)\n",
        "    counts = df[col].value_counts().sort_index()\n",
        "\n",
        "    # Capitalize the first letter of the column name\n",
        "    col_name = col[0].upper() + col[1:].lower()\n",
        "\n",
        "    # Plotting a bar plot with seaborn\n",
        "    plt.figure(figsize=(10, 6))\n",
        "    sns.barplot(x=counts.index, y=counts.values, color='skyblue')\n",
        "    plt.xlabel(col)\n",
        "    plt.ylabel(f\"{count_name} Counts\")\n",
        "    plt.title(f\"{count_name} Counts by {col_name} (Bar Plot)\")\n",
        "    plt.xticks(rotation=0)\n",
        "    plt.grid(axis='y')\n",
        "    plt.show()"
      ]
    },
    {
      "cell_type": "markdown",
      "metadata": {
        "id": "keoWc-jpz-UC"
      },
      "source": [
        "## Loading Dataset"
      ]
    },
    {
      "cell_type": "code",
      "execution_count": 3,
      "metadata": {
        "id": "HBAg9hDcz64u"
      },
      "outputs": [],
      "source": [
        "# Read the CSV file into a DataFrame\n",
        "persona_df = pd.read_csv('dataset/persona.csv')"
      ]
    },
    {
      "cell_type": "markdown",
      "metadata": {
        "id": "yDj96U-u1ig1"
      },
      "source": [
        "## Exploratory Data Analysis"
      ]
    },
    {
      "cell_type": "markdown",
      "metadata": {
        "id": "lxk1iQlhqmMk"
      },
      "source": [
        "### Preview of Data"
      ]
    },
    {
      "cell_type": "code",
      "execution_count": 4,
      "metadata": {
        "colab": {
          "base_uri": "https://localhost:8080/"
        },
        "id": "-tcAHsOe1hIy",
        "outputId": "b5686ad7-73c1-4177-945d-247dd7ddd7d1"
      },
      "outputs": [
        {
          "name": "stdout",
          "output_type": "stream",
          "text": [
            "Top rows of the dataset:\n",
            "   PRICE   SOURCE   SEX COUNTRY  AGE\n",
            "0     39  android  male     bra   17\n",
            "1     39  android  male     bra   17\n",
            "2     49  android  male     bra   17\n",
            "3     29  android  male     tur   17\n",
            "4     49  android  male     tur   17\n",
            "\n",
            "Bottom rows of the dataset:\n",
            "      PRICE   SOURCE     SEX COUNTRY  AGE\n",
            "4995     29  android  female     bra   31\n",
            "4996     29  android  female     bra   31\n",
            "4997     29  android  female     bra   31\n",
            "4998     39  android  female     bra   31\n",
            "4999     29  android  female     bra   31\n"
          ]
        }
      ],
      "source": [
        "# Display the first few rows of the DataFrame\n",
        "print(\"Top rows of the dataset:\")\n",
        "print(persona_df.head())\n",
        "\n",
        "print()  # Print an empty line for separation\n",
        "\n",
        "# Display the last few rows of the DataFrame\n",
        "print(\"Bottom rows of the dataset:\")\n",
        "print(persona_df.tail())"
      ]
    },
    {
      "cell_type": "markdown",
      "metadata": {
        "id": "o6St8hYXqsuM"
      },
      "source": [
        "### Dataset Information"
      ]
    },
    {
      "cell_type": "code",
      "execution_count": 5,
      "metadata": {
        "colab": {
          "base_uri": "https://localhost:8080/"
        },
        "id": "G4q9LTp_1yIY",
        "outputId": "fa3f3750-6cc2-479d-a928-bf64e8a86da0"
      },
      "outputs": [
        {
          "name": "stdout",
          "output_type": "stream",
          "text": [
            "The dataset contains 5000 rows and 5 columns.\n"
          ]
        }
      ],
      "source": [
        "# Get the number of rows and columns in the DataFrame\n",
        "rows, columns = persona_df.shape\n",
        "\n",
        "# Print the information about the dataset\n",
        "print(f\"The dataset contains {rows} rows and {columns} columns.\")"
      ]
    },
    {
      "cell_type": "code",
      "execution_count": 6,
      "metadata": {
        "colab": {
          "base_uri": "https://localhost:8080/"
        },
        "id": "66_NSsn011zQ",
        "outputId": "60b3f2b9-93b2-47d0-e213-c30b1f2d2b00"
      },
      "outputs": [
        {
          "name": "stdout",
          "output_type": "stream",
          "text": [
            "Dataset Information:\n",
            "<class 'pandas.core.frame.DataFrame'>\n",
            "Int64Index: 5000 entries, 0 to 4999\n",
            "Data columns (total 5 columns):\n",
            " #   Column   Non-Null Count  Dtype \n",
            "---  ------   --------------  ----- \n",
            " 0   PRICE    5000 non-null   int64 \n",
            " 1   SOURCE   5000 non-null   object\n",
            " 2   SEX      5000 non-null   object\n",
            " 3   COUNTRY  5000 non-null   object\n",
            " 4   AGE      5000 non-null   int64 \n",
            "dtypes: int64(2), object(3)\n",
            "memory usage: 234.4+ KB\n"
          ]
        }
      ],
      "source": [
        "# Display the summary information of the DataFrame\n",
        "print(\"Dataset Information:\")\n",
        "persona_df.info()"
      ]
    },
    {
      "cell_type": "markdown",
      "metadata": {
        "id": "k4POZo23qyhO"
      },
      "source": [
        "### Summary Statistics"
      ]
    },
    {
      "cell_type": "code",
      "execution_count": 7,
      "metadata": {
        "colab": {
          "base_uri": "https://localhost:8080/"
        },
        "id": "N1ciJFmr4ipA",
        "outputId": "3cb4e4ce-934e-4c87-8c06-7c0a8f7542d4"
      },
      "outputs": [
        {
          "name": "stdout",
          "output_type": "stream",
          "text": [
            "Summary Statistics:\n",
            "        count     mean        std   min   25%   50%   75%   max\n",
            "PRICE  5000.0  34.1320  12.464897   9.0  29.0  39.0  39.0  59.0\n",
            "AGE    5000.0  23.5814   8.995908  15.0  17.0  21.0  27.0  66.0\n",
            "\n",
            "The 'PRICE' column has 6 unique values.\n"
          ]
        }
      ],
      "source": [
        "# Display the summary statistics of the DataFrame\n",
        "print(\"Summary Statistics:\")\n",
        "print(persona_df.describe().T)\n",
        "\n",
        "print()  # Print an empty line for separation\n",
        "\n",
        "# Get the number of unique values in the \"PRICE\" column\n",
        "unique_prices = persona_df[\"PRICE\"].nunique()\n",
        "\n",
        "# Display the number of unique values\n",
        "print(f\"The 'PRICE' column has {unique_prices} unique values.\")"
      ]
    },
    {
      "cell_type": "markdown",
      "metadata": {
        "id": "tUyWPvNX6dQr"
      },
      "source": [
        "By treating the **PRICE** column as categorical, we can better analyze and interpret the data, as it aligns with the fact that there are only 6 unique values.\n",
        "\n",
        "In the **AGE** column, the ages range from 15.0 to 66.0, with an average age of 23.5814. The ages appear to be relatively evenly distributed across the range, as indicated by the similar quartiles. The standard deviation of 8.995908 indicates a moderate spread of ages around the mean."
      ]
    },
    {
      "cell_type": "markdown",
      "metadata": {
        "id": "gl3RsMt8r57Z"
      },
      "source": [
        "### Comprehensive Data Analysis"
      ]
    },
    {
      "cell_type": "markdown",
      "metadata": {
        "id": "Uz4sGifhA2xq"
      },
      "source": [
        "#### **SOURCE**"
      ]
    },
    {
      "cell_type": "code",
      "execution_count": 8,
      "metadata": {
        "colab": {
          "base_uri": "https://localhost:8080/",
          "height": 689
        },
        "id": "yejjkH3S7egY",
        "outputId": "11624cba-a276-4473-e08b-52127d5c15bf"
      },
      "outputs": [
        {
          "name": "stdout",
          "output_type": "stream",
          "text": [
            "Unique SOURCE count: 2\n",
            "\n",
            "Sales Counts by SOURCE:\n",
            "android    2974\n",
            "ios        2026\n",
            "Name: SOURCE, dtype: int64\n",
            "\n"
          ]
        },
        {
          "data": {
            "image/png": "[encoded data removed]",
            "text/plain": [
              "<Figure size 1000x600 with 1 Axes>"
            ]
          },
          "metadata": {},
          "output_type": "display_data"
        }
      ],
      "source": [
        "# Perform count analyses on the 'SOURCE' column\n",
        "# the function created in the function section of the notebook.\n",
        "count_analyses(persona_df, 'SOURCE')\n",
        "\n",
        "print()  # Print an empty line for separation\n",
        "\n",
        "# Generate a bar plot to visualize the sales counts by PRICE\n",
        "# the function created in the function section of the notebook.\n",
        "bar_plot_for_counts(persona_df, 'SOURCE')"
      ]
    },
    {
      "cell_type": "markdown",
      "metadata": {
        "id": "uUB6CFWes4HR"
      },
      "source": [
        "#### **PRICE**"
      ]
    },
    {
      "cell_type": "code",
      "execution_count": 9,
      "metadata": {
        "colab": {
          "base_uri": "https://localhost:8080/",
          "height": 760
        },
        "id": "zGMrCY4567V7",
        "outputId": "a048313b-6e90-4f48-e4b6-0708646e383a"
      },
      "outputs": [
        {
          "name": "stdout",
          "output_type": "stream",
          "text": [
            "Unique PRICE count: 6\n",
            "\n",
            "Sales Counts by PRICE:\n",
            "29    1305\n",
            "39    1260\n",
            "49    1031\n",
            "19     992\n",
            "59     212\n",
            "9      200\n",
            "Name: PRICE, dtype: int64\n",
            "\n"
          ]
        },
        {
          "data": {
            "image/png": "[encoded data removed]",
            "text/plain": [
              "<Figure size 1000x600 with 1 Axes>"
            ]
          },
          "metadata": {},
          "output_type": "display_data"
        }
      ],
      "source": [
        "# Perform count analyses on the 'PRICE' column\n",
        "# the function created in the function section of the notebook.\n",
        "count_analyses(persona_df, 'PRICE')\n",
        "\n",
        "print()  # Print an empty line for separation\n",
        "\n",
        "# Generate a bar plot to visualize the sales counts by PRICE\n",
        "# the function created in the function section of the notebook.\n",
        "bar_plot_for_counts(persona_df, 'PRICE')"
      ]
    },
    {
      "cell_type": "markdown",
      "metadata": {
        "id": "VIkQKEov03kK"
      },
      "source": [
        "#### **COUNTRY**"
      ]
    },
    {
      "cell_type": "code",
      "execution_count": 10,
      "metadata": {
        "colab": {
          "base_uri": "https://localhost:8080/",
          "height": 760
        },
        "id": "jMdD4tuvs9WK",
        "outputId": "cc54890d-aed5-491d-ee92-184ba00150f3"
      },
      "outputs": [
        {
          "name": "stdout",
          "output_type": "stream",
          "text": [
            "Unique COUNTRY count: 6\n",
            "\n",
            "Sales Counts by COUNTRY:\n",
            "usa    2065\n",
            "bra    1496\n",
            "deu     455\n",
            "tur     451\n",
            "fra     303\n",
            "can     230\n",
            "Name: COUNTRY, dtype: int64\n",
            "\n"
          ]
        },
        {
          "data": {
            "image/png": "[encoded data removed]",
            "text/plain": [
              "<Figure size 1000x600 with 1 Axes>"
            ]
          },
          "metadata": {},
          "output_type": "display_data"
        }
      ],
      "source": [
        "# Perform count analyses on the 'COUNTRY' column\n",
        "# the function created in the function section of the notebook.\n",
        "count_analyses(persona_df, 'COUNTRY')\n",
        "\n",
        "print()  # Print an empty line for separation\n",
        "\n",
        "# Generate a bar plot to visualize the sales counts by COUNTRY\n",
        "# the function created in the function section of the notebook.\n",
        "bar_plot_for_counts(persona_df, 'COUNTRY')"
      ]
    },
    {
      "cell_type": "markdown",
      "metadata": {
        "id": "uxm2pQFCFcSq"
      },
      "source": [
        "## Case Study Questions & Answers"
      ]
    },
    {
      "cell_type": "markdown",
      "metadata": {
        "id": "sucvVYNWFmos"
      },
      "source": [
        "### How much total revenue was generated from sales by country?"
      ]
    },
    {
      "cell_type": "code",
      "execution_count": 11,
      "metadata": {
        "colab": {
          "base_uri": "https://localhost:8080/"
        },
        "id": "ETWi_QcfC3IR",
        "outputId": "dbe4803f-985d-429c-9579-25db6f89b4b2"
      },
      "outputs": [
        {
          "name": "stdout",
          "output_type": "stream",
          "text": [
            "         PRICE\n",
            "COUNTRY       \n",
            "usa      70225\n",
            "bra      51354\n",
            "tur      15689\n",
            "deu      15485\n",
            "fra      10177\n",
            "can       7730\n"
          ]
        }
      ],
      "source": [
        "print(persona_df.groupby(\"COUNTRY\").agg({\"PRICE\": \"sum\"}).sort_values(by=\"PRICE\", ascending=False))"
      ]
    },
    {
      "cell_type": "markdown",
      "metadata": {
        "id": "WtsEDkfKHyBi"
      },
      "source": [
        "### What are the average price values by country?"
      ]
    },
    {
      "cell_type": "code",
      "execution_count": 12,
      "metadata": {
        "colab": {
          "base_uri": "https://localhost:8080/"
        },
        "id": "vm0pzrm7GP2f",
        "outputId": "4c479b9f-cd95-4b6b-e9a9-c3cd95842a04"
      },
      "outputs": [
        {
          "name": "stdout",
          "output_type": "stream",
          "text": [
            "             PRICE\n",
            "COUNTRY           \n",
            "tur      34.787140\n",
            "bra      34.327540\n",
            "deu      34.032967\n",
            "usa      34.007264\n",
            "can      33.608696\n",
            "fra      33.587459\n"
          ]
        }
      ],
      "source": [
        "print(persona_df.groupby(\"COUNTRY\").agg({\"PRICE\": \"mean\"}).sort_values(by=\"PRICE\", ascending=False))"
      ]
    },
    {
      "cell_type": "markdown",
      "metadata": {
        "id": "kShg4QwXItl0"
      },
      "source": [
        "### What are the average price values by source?"
      ]
    },
    {
      "cell_type": "code",
      "execution_count": 13,
      "metadata": {
        "colab": {
          "base_uri": "https://localhost:8080/"
        },
        "id": "Zls6s72FIhW3",
        "outputId": "dd6ba353-c0e5-4884-d946-b695c51c8142"
      },
      "outputs": [
        {
          "name": "stdout",
          "output_type": "stream",
          "text": [
            "             PRICE\n",
            "SOURCE            \n",
            "android  34.174849\n",
            "ios      34.069102\n"
          ]
        }
      ],
      "source": [
        "print(persona_df.groupby(\"SOURCE\").agg({\"PRICE\": \"mean\"}).sort_values(by=\"PRICE\", ascending=False))"
      ]
    },
    {
      "cell_type": "markdown",
      "metadata": {
        "id": "TKMDwl9qJJ6-"
      },
      "source": [
        "### What are the average price values broken down by country and source?"
      ]
    },
    {
      "cell_type": "code",
      "execution_count": 14,
      "metadata": {
        "colab": {
          "base_uri": "https://localhost:8080/"
        },
        "id": "0eC-VGhsIyJr",
        "outputId": "6810a0f1-0be1-4220-ebd2-a02c542977d3"
      },
      "outputs": [
        {
          "name": "stdout",
          "output_type": "stream",
          "text": [
            "                     PRICE\n",
            "COUNTRY SOURCE            \n",
            "tur     android  36.229437\n",
            "bra     android  34.387029\n",
            "usa     ios      34.371703\n",
            "fra     android  34.312500\n",
            "deu     ios      34.268817\n",
            "bra     ios      34.222222\n",
            "can     ios      33.951456\n",
            "deu     android  33.869888\n",
            "usa     android  33.760357\n",
            "can     android  33.330709\n",
            "tur     ios      33.272727\n",
            "fra     ios      32.776224\n"
          ]
        }
      ],
      "source": [
        "print(persona_df.groupby(by = [\"COUNTRY\", \"SOURCE\"]).agg({\"PRICE\": \"mean\"}).sort_values(by=\"PRICE\", ascending=False))"
      ]
    },
    {
      "cell_type": "markdown",
      "metadata": {
        "id": "iYqN_b84KKRQ"
      },
      "source": [
        "### What are the average earnings broken down by country, source, sex, and age?"
      ]
    },
    {
      "cell_type": "code",
      "execution_count": 15,
      "metadata": {
        "colab": {
          "base_uri": "https://localhost:8080/"
        },
        "id": "CrNE4SB7Kq7y",
        "outputId": "7e594371-dfa6-4679-a6e2-3ae9f8ccc757"
      },
      "outputs": [
        {
          "name": "stdout",
          "output_type": "stream",
          "text": [
            "Top records of the aggregated DataFrame:\n",
            "                            PRICE\n",
            "COUNTRY SOURCE  SEX    AGE       \n",
            "bra     android male   46    59.0\n",
            "usa     android male   36    59.0\n",
            "fra     android female 24    59.0\n",
            "usa     ios     male   32    54.0\n",
            "deu     android female 36    49.0\n",
            "\n",
            "Top records of the DataFrame with the reset index:\n",
            "  COUNTRY   SOURCE     SEX  AGE  PRICE\n",
            "0     bra  android    male   46   59.0\n",
            "1     usa  android    male   36   59.0\n",
            "2     fra  android  female   24   59.0\n",
            "3     usa      ios    male   32   54.0\n",
            "4     deu  android  female   36   49.0\n"
          ]
        }
      ],
      "source": [
        "# Perform aggregation to calculate the average earnings broken down by COUNTRY, SOURCE, SEX, and AGE\n",
        "agg_df = persona_df.groupby([\"COUNTRY\", \"SOURCE\", \"SEX\", \"AGE\"]).agg({\"PRICE\": \"mean\"}).sort_values(\"PRICE\", ascending=False)\n",
        "\n",
        "# Display the top records of the aggregated DataFrame\n",
        "print(\"Top records of the aggregated DataFrame:\")\n",
        "print(agg_df.head())\n",
        "\n",
        "# Print an empty line for separation\n",
        "print()\n",
        "\n",
        "# Reset the index of the DataFrame to convert indexes into columns\n",
        "agg_df = agg_df.reset_index()\n",
        "\n",
        "# Display the top records of the DataFrame with the reset index\n",
        "print(\"Top records of the DataFrame with the reset index:\")\n",
        "print(agg_df.head())\n"
      ]
    },
    {
      "cell_type": "markdown",
      "metadata": {
        "id": "Ld2NyhQIQg39"
      },
      "source": [
        "## Customer Segmentation"
      ]
    },
    {
      "cell_type": "markdown",
      "metadata": {
        "id": "hyQUSWWmMDxI"
      },
      "source": [
        "### Convert the variable 'AGE' into a categorical variable and add it to the 'agg_df'."
      ]
    },
    {
      "cell_type": "code",
      "execution_count": 16,
      "metadata": {
        "colab": {
          "base_uri": "https://localhost:8080/"
        },
        "id": "TGd7QniDLFsv",
        "outputId": "7a1af703-d271-4a91-b801-51567c4d81bc"
      },
      "outputs": [
        {
          "name": "stdout",
          "output_type": "stream",
          "text": [
            "Age Labels:\n",
            "['0_17', '18_24', '25_34', '35_44', '45_54', '55_+']\n",
            "\n",
            "Top records of the updated DataFrame:\n",
            "  COUNTRY   SOURCE     SEX  AGE  PRICE age_cat\n",
            "0     bra  android    male   46   59.0   45_54\n",
            "1     usa  android    male   36   59.0   35_44\n",
            "2     fra  android  female   24   59.0   18_24\n",
            "3     usa      ios    male   32   54.0   25_34\n",
            "4     deu  android  female   36   49.0   35_44\n"
          ]
        }
      ],
      "source": [
        "# Define the bin boundaries for age categories\n",
        "bins = [0, 18, 25, 35, 45, 55, agg_df[\"AGE\"].max()]\n",
        "\n",
        "# Create the labels list based on the bins\n",
        "age_labels = [f\"{bins[i]}_{bins[i+1]-1}\" if i < len(bins)-2 else f\"{bins[i]}_{'+'}\" for i in range(len(bins)-1)]\n",
        "\n",
        "# Print the labels list\n",
        "print(\"Age Labels:\")\n",
        "print(age_labels)\n",
        "\n",
        "print()\n",
        "\n",
        "# Create a new column 'age_cat' in agg_df to represent the age categories\n",
        "agg_df[\"age_cat\"] = pd.cut(agg_df[\"AGE\"], bins, labels=age_labels)\n",
        "\n",
        "# Display the top records of the updated DataFrame\n",
        "print(\"Top records of the updated DataFrame:\")\n",
        "print(agg_df.head())\n"
      ]
    },
    {
      "cell_type": "markdown",
      "metadata": {
        "id": "rprLpE7t1p6W"
      },
      "source": [
        "### Creating a new level-based customers"
      ]
    },
    {
      "cell_type": "code",
      "execution_count": 17,
      "metadata": {
        "colab": {
          "base_uri": "https://localhost:8080/"
        },
        "id": "QfVtkrGzOJ-i",
        "outputId": "e4c4bfab-a000-4761-f21e-8466a4ac75c1"
      },
      "outputs": [
        {
          "name": "stdout",
          "output_type": "stream",
          "text": [
            "Top records of the updated DataFrame:\n",
            "  COUNTRY   SOURCE     SEX  AGE  PRICE age_cat     customers_level_based\n",
            "0     bra  android    male   46   59.0   45_54    BRA_ANDROID_MALE_45_54\n",
            "1     usa  android    male   36   59.0   35_44    USA_ANDROID_MALE_35_44\n",
            "2     fra  android  female   24   59.0   18_24  FRA_ANDROID_FEMALE_18_24\n",
            "3     usa      ios    male   32   54.0   25_34        USA_IOS_MALE_25_34\n",
            "4     deu  android  female   36   49.0   35_44  DEU_ANDROID_FEMALE_35_44\n"
          ]
        }
      ],
      "source": [
        "# Create a new level-based customers variable by combining selected columns\n",
        "col_list = ['COUNTRY', 'SOURCE', 'SEX', 'age_cat']\n",
        "agg_df['customers_level_based'] = agg_df[col_list].apply('_'.join, axis=1).str.upper()\n",
        "\n",
        "# Display the top records of the updated DataFrame\n",
        "print(\"Top records of the updated DataFrame:\")\n",
        "print(agg_df.head())\n"
      ]
    },
    {
      "cell_type": "markdown",
      "metadata": {
        "id": "sJX20s5s5d8O"
      },
      "source": [
        "### Removing Unnecessary Variables"
      ]
    },
    {
      "cell_type": "code",
      "execution_count": 18,
      "metadata": {
        "colab": {
          "base_uri": "https://localhost:8080/"
        },
        "id": "IQmcygYh0hyH",
        "outputId": "7c89596b-5181-4110-ced5-1ce2a474ec4c"
      },
      "outputs": [
        {
          "name": "stdout",
          "output_type": "stream",
          "text": [
            "Top records of the updated DataFrame:\n",
            "      customers_level_based  PRICE\n",
            "0    BRA_ANDROID_MALE_45_54   59.0\n",
            "1    USA_ANDROID_MALE_35_44   59.0\n",
            "2  FRA_ANDROID_FEMALE_18_24   59.0\n",
            "3        USA_IOS_MALE_25_34   54.0\n",
            "4  DEU_ANDROID_FEMALE_35_44   49.0\n"
          ]
        }
      ],
      "source": [
        "# Remove unnecessary variables from agg_df\n",
        "agg_df = agg_df[[\"customers_level_based\", \"PRICE\"]]\n",
        "\n",
        "# Display the top records of the updated DataFrame\n",
        "print(\"Top records of the updated DataFrame:\")\n",
        "print(agg_df.head())"
      ]
    },
    {
      "cell_type": "markdown",
      "metadata": {
        "id": "mZGfMEc_5leG"
      },
      "source": [
        "### Aggregation"
      ]
    },
    {
      "cell_type": "code",
      "execution_count": 19,
      "metadata": {
        "colab": {
          "base_uri": "https://localhost:8080/"
        },
        "id": "JLov6Rwl4hR1",
        "outputId": "327b2aab-25f5-4e00-9903-bc6ada5e5f6f"
      },
      "outputs": [
        {
          "name": "stdout",
          "output_type": "stream",
          "text": [
            "Aggregated results:\n",
            "                              PRICE\n",
            "customers_level_based              \n",
            "BRA_ANDROID_FEMALE_0_17   35.645303\n",
            "BRA_ANDROID_FEMALE_18_24  34.650481\n",
            "BRA_ANDROID_FEMALE_25_34  32.872314\n",
            "BRA_ANDROID_FEMALE_35_44  36.873519\n",
            "BRA_ANDROID_FEMALE_55_+   37.000000\n"
          ]
        }
      ],
      "source": [
        "# Perform aggregation to calculate the mean price by level-based customers\n",
        "agg_df = agg_df.groupby(\"customers_level_based\").agg({\"PRICE\": \"mean\"})\n",
        "\n",
        "# Display the aggregated results\n",
        "print(\"Aggregated results:\")\n",
        "print(agg_df.head())"
      ]
    },
    {
      "cell_type": "markdown",
      "metadata": {
        "id": "DLrUpp6f6GN8"
      },
      "source": [
        "### Segmentation of new Customers by Price"
      ]
    },
    {
      "cell_type": "code",
      "execution_count": 20,
      "metadata": {
        "colab": {
          "base_uri": "https://localhost:8080/"
        },
        "id": "sx3T_cb54yEE",
        "outputId": "8ee324df-f152-41b4-e32c-7abadba348ab"
      },
      "outputs": [
        {
          "name": "stdout",
          "output_type": "stream",
          "text": [
            "Top records of the updated DataFrame:\n",
            "                              PRICE SEGMENT\n",
            "customers_level_based                      \n",
            "BRA_ANDROID_FEMALE_0_17   35.645303       B\n",
            "BRA_ANDROID_FEMALE_18_24  34.650481       B\n",
            "BRA_ANDROID_FEMALE_25_34  32.872314       C\n",
            "BRA_ANDROID_FEMALE_35_44  36.873519       A\n",
            "BRA_ANDROID_FEMALE_55_+   37.000000       A\n",
            "BRA_ANDROID_MALE_0_17     34.805861       B\n",
            "BRA_ANDROID_MALE_18_24    32.746194       C\n",
            "BRA_ANDROID_MALE_25_34    32.423382       C\n",
            "BRA_ANDROID_MALE_35_44    35.912202       B\n",
            "BRA_ANDROID_MALE_45_54    44.000000       A\n",
            "\n",
            "Aggregated statistics by segment:\n",
            "             PRICE                                                   \n",
            "               max        min       mean       std          sum count\n",
            "SEGMENT                                                              \n",
            "D        31.727273  19.000000  28.395529  4.009678   795.074798    28\n",
            "C        34.140690  31.777778  33.170072  0.705071   895.591936    27\n",
            "B        36.500000  34.182411  35.303495  0.752871   953.194375    27\n",
            "A        49.000000  36.719298  39.415313  3.222014  1103.628774    28\n"
          ]
        }
      ],
      "source": [
        "# Segmentation of new customers by price\n",
        "agg_df[\"SEGMENT\"] = pd.qcut(agg_df[\"PRICE\"], 4, labels=[\"D\", \"C\", \"B\", \"A\"])\n",
        "\n",
        "# Display the top records of the updated DataFrame\n",
        "print(\"Top records of the updated DataFrame:\")\n",
        "print(agg_df.head(10))\n",
        "\n",
        "print()\n",
        "\n",
        "# Perform aggregation by segment and calculate various statistics\n",
        "segment_agg = agg_df[[\"SEGMENT\", \"PRICE\"]].groupby(\"SEGMENT\").agg({'mean', 'min', 'max', 'std', 'sum', 'count'})\n",
        "\n",
        "# Display the aggregated statistics by segment\n",
        "print(\"Aggregated statistics by segment:\")\n",
        "print(segment_agg)\n"
      ]
    },
    {
      "cell_type": "markdown",
      "metadata": {
        "id": "9949q1s37Bnw"
      },
      "source": [
        "## Classification and Potential Revenue Prediction for new Incoming Customers"
      ]
    },
    {
      "cell_type": "code",
      "execution_count": 21,
      "metadata": {
        "colab": {
          "base_uri": "https://localhost:8080/"
        },
        "id": "PppAbasW_l4j",
        "outputId": "28e56283-8f86-482e-878d-56a007724981"
      },
      "outputs": [
        {
          "name": "stdout",
          "output_type": "stream",
          "text": [
            "Classification and expected revenue for the new user:\n",
            "                              PRICE SEGMENT\n",
            "customers_level_based                      \n",
            "TUR_ANDROID_FEMALE_25_34  36.309524       B\n",
            "\n",
            "Classification and expected revenue for the new user:\n",
            "                       PRICE SEGMENT\n",
            "customers_level_based               \n",
            "FRA_IOS_FEMALE_35_44    33.0       C\n"
          ]
        }
      ],
      "source": [
        "# Classifying a 33-year-old Turkish female using an Android device and predicting their expected revenue segment and average earnings\n",
        "new_user_1 = 'TUR_ANDROID_FEMALE_25_34'\n",
        "segment_1 = agg_df[agg_df.index == new_user_1]\n",
        "print(\"Classification and expected revenue for the new user:\")\n",
        "print(segment_1)\n",
        "\n",
        "print()\n",
        "\n",
        "# Classifying a 35-year-old French female using an iOS device and predicting their expected revenue segment and average earnings\n",
        "new_user_2 = 'FRA_IOS_FEMALE_35_44'\n",
        "segment_2 = agg_df[agg_df.index == new_user_2]\n",
        "print(\"Classification and expected revenue for the new user:\")\n",
        "print(segment_2)"
      ]
    },
    {
      "cell_type": "markdown",
      "metadata": {
        "id": "QE5LNgU0Qm8t"
      },
      "source": [
        "**with using function**"
      ]
    },
    {
      "cell_type": "code",
      "execution_count": 22,
      "metadata": {
        "id": "nGhGUlxwIorM"
      },
      "outputs": [],
      "source": [
        "def detect_age_label(num, bins=bins, labels=age_labels):\n",
        "    \"\"\"Detects the age label based on a numerical value.\"\"\"\n",
        "    diff = [num - item for item in bins]\n",
        "    positive_indexes = [index for index, num in enumerate(diff) if num >= 0]\n",
        "    max_index = max(positive_indexes)\n",
        "    age_label = labels[max_index]\n",
        "    return age_label\n",
        "\n",
        "\n",
        "def get_user_segment(country, device_type, gender, age):\n",
        "    \"\"\"Gets the user segment based on country, device type, gender, and age.\"\"\"\n",
        "    age_segment = detect_age_label(age)\n",
        "    segment_info = [country, device_type, gender, age_segment]\n",
        "    user_segment = '_'.join([s.upper() for s in segment_info])\n",
        "    return user_segment\n"
      ]
    },
    {
      "cell_type": "code",
      "execution_count": 23,
      "metadata": {
        "colab": {
          "base_uri": "https://localhost:8080/"
        },
        "id": "x3ejmcErP-Qr",
        "outputId": "a664f3b4-8de3-4213-b631-7b6e9941d1c8"
      },
      "outputs": [
        {
          "name": "stdout",
          "output_type": "stream",
          "text": [
            "Classification and expected revenue for the new user:\n",
            "                              PRICE SEGMENT\n",
            "customers_level_based                      \n",
            "TUR_ANDROID_FEMALE_25_34  36.309524       B\n",
            "\n",
            "Classification and expected revenue for the new user:\n",
            "                       PRICE SEGMENT\n",
            "customers_level_based               \n",
            "FRA_IOS_FEMALE_35_44    33.0       C\n"
          ]
        }
      ],
      "source": [
        "# Classifying a 33-year-old Turkish female using an Android device and predicting their expected revenue segment and average earnings\n",
        "new_user_1 = get_user_segment('TUR', 'ANDROID', 'FEMALE', 33)\n",
        "segment_1 = agg_df[agg_df.index == new_user_1]\n",
        "print(\"Classification and expected revenue for the new user:\")\n",
        "print(segment_1)\n",
        "\n",
        "print()\n",
        "\n",
        "# Classifying a 35-year-old French female using an iOS device and predicting their expected revenue segment and average earnings\n",
        "new_user_2 =  get_user_segment('FRA', 'IOS', 'FEMALE', 35)\n",
        "segment_2 = agg_df[agg_df.index == new_user_2]\n",
        "print(\"Classification and expected revenue for the new user:\")\n",
        "print(segment_2)"
      ]
    }
  ],
  "metadata": {
    "colab": {
      "collapsed_sections": [
        "aDaZRQk_y7sv",
        "UIiv_JLD47Vm",
        "keoWc-jpz-UC",
        "lxk1iQlhqmMk",
        "o6St8hYXqsuM",
        "k4POZo23qyhO"
      ],
      "provenance": []
    },
    "kernelspec": {
      "display_name": "Python 3",
      "name": "python3"
    },
    "language_info": {
      "name": "python"
    }
  },
  "nbformat": 4,
  "nbformat_minor": 0
}
